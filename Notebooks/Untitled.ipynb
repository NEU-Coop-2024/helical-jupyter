{
 "cells": [
  {
   "cell_type": "code",
   "execution_count": 1,
   "id": "3665210d-a5b7-4100-b8a1-dc98440a3bb0",
   "metadata": {},
   "outputs": [],
   "source": [
    "%load_ext echo_append"
   ]
  },
  {
   "cell_type": "code",
   "execution_count": 2,
   "id": "1a1a949b-acda-46cf-b403-58eb5496771a",
   "metadata": {},
   "outputs": [
    {
     "name": "stdout",
     "output_type": "stream",
     "text": [
      "1\n",
      "Success!\n"
     ]
    }
   ],
   "source": [
    "%%echo_append \n",
    "print('1')"
   ]
  },
  {
   "cell_type": "code",
   "execution_count": 3,
   "id": "6a73a84a-4a76-4dcb-90a6-04a94561d2c0",
   "metadata": {},
   "outputs": [
    {
     "name": "stdout",
     "output_type": "stream",
     "text": [
      "1\n",
      "12\n",
      "Success!\n"
     ]
    }
   ],
   "source": [
    "%%echo_append \n",
    "print('12')"
   ]
  },
  {
   "cell_type": "code",
   "execution_count": 4,
   "id": "8415102d-6c18-4505-b01c-0ca4e99e0596",
   "metadata": {},
   "outputs": [
    {
     "name": "stdout",
     "output_type": "stream",
     "text": [
      "1\n",
      "12\n",
      "13\n",
      "Success!\n"
     ]
    }
   ],
   "source": [
    "%%echo_append \n",
    "print('13')"
   ]
  },
  {
   "cell_type": "code",
   "execution_count": null,
   "id": "286fe540-6c72-4294-9a6b-7926ef073379",
   "metadata": {},
   "outputs": [],
   "source": []
  }
 ],
 "metadata": {
  "kernelspec": {
   "display_name": "Python 3 (ipykernel)",
   "language": "python",
   "name": "python3"
  },
  "language_info": {
   "codemirror_mode": {
    "name": "ipython",
    "version": 3
   },
   "file_extension": ".py",
   "mimetype": "text/x-python",
   "name": "python",
   "nbconvert_exporter": "python",
   "pygments_lexer": "ipython3",
   "version": "3.11.9"
  }
 },
 "nbformat": 4,
 "nbformat_minor": 5
}
