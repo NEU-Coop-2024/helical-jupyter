{
 "cells": [
  {
   "cell_type": "code",
   "execution_count": null,
   "id": "1ce4defe-1d54-4057-a99a-88c5c2eec995",
   "metadata": {},
   "outputs": [],
   "source": [
    "%load_ext echo_append"
   ]
  },
  {
   "cell_type": "code",
   "execution_count": null,
   "id": "e9d3cee1-997b-4140-9cfb-2f05aa62d0bc",
   "metadata": {},
   "outputs": [],
   "source": [
    "%%echo_append\n",
    "digraph G {\n",
    "    A -> B;\n",
    "    B -> C;\n",
    "    C -> A;\n",
    "    C -> B;\n",
    "}"
   ]
  },
  {
   "cell_type": "code",
   "execution_count": null,
   "id": "7ba67fc4-5bed-474c-a5c6-08ef5c82b438",
   "metadata": {},
   "outputs": [],
   "source": [
    "%%echo_append\n",
    "digraph G {\n",
    "    A -> B;\n",
    "    B -> C;\n",
    "    C -> A;\n",
    "    C -> B;\n",
    "    C -> D;\n",
    "}"
   ]
  },
  {
   "cell_type": "code",
   "execution_count": null,
   "id": "9f385f54-cc10-44ad-aaa2-25bc0a90b085",
   "metadata": {},
   "outputs": [],
   "source": [
    "%%echo_append\n",
    "digraph H {\n",
    "    A -> B;\n",
    "}"
   ]
  },
  {
   "cell_type": "code",
   "execution_count": null,
   "id": "aed218eb-a5d3-438d-8368-bd2282213d67",
   "metadata": {},
   "outputs": [],
   "source": []
  }
 ],
 "metadata": {
  "kernelspec": {
   "display_name": "Python 3 (ipykernel)",
   "language": "python",
   "name": "python3"
  },
  "language_info": {
   "codemirror_mode": {
    "name": "ipython",
    "version": 3
   },
   "file_extension": ".py",
   "mimetype": "text/x-python",
   "name": "python",
   "nbconvert_exporter": "python",
   "pygments_lexer": "ipython3",
   "version": "3.11.9"
  }
 },
 "nbformat": 4,
 "nbformat_minor": 5
}
