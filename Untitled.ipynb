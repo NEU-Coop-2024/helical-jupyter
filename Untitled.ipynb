{
 "cells": [
  {
   "cell_type": "code",
   "execution_count": 1,
   "id": "2cbc2953-d163-4438-b6ca-fd4e701fc4ac",
   "metadata": {},
   "outputs": [],
   "source": [
    "%load_ext echo_append"
   ]
  },
  {
   "cell_type": "code",
   "execution_count": 2,
   "id": "1a1a949b-acda-46cf-b403-58eb5496771a",
   "metadata": {},
   "outputs": [
    {
     "data": {
      "text/plain": [
       "'print(\\'1\\')\\n\\n\\nprint(\"Success!\")'"
      ]
     },
     "execution_count": 2,
     "metadata": {},
     "output_type": "execute_result"
    }
   ],
   "source": [
    "%%echo_append \n",
    "print('1')"
   ]
  },
  {
   "cell_type": "code",
   "execution_count": null,
   "id": "3665210d-a5b7-4100-b8a1-dc98440a3bb0",
   "metadata": {},
   "outputs": [],
   "source": []
  }
 ],
 "metadata": {
  "kernelspec": {
   "display_name": "Python 3 (ipykernel)",
   "language": "python",
   "name": "python3"
  },
  "language_info": {
   "codemirror_mode": {
    "name": "ipython",
    "version": 3
   },
   "file_extension": ".py",
   "mimetype": "text/x-python",
   "name": "python",
   "nbconvert_exporter": "python",
   "pygments_lexer": "ipython3",
   "version": "3.11.9"
  }
 },
 "nbformat": 4,
 "nbformat_minor": 5
}
