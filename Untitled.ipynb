{
 "cells": [
  {
   "cell_type": "code",
   "execution_count": 1,
   "id": "3665210d-a5b7-4100-b8a1-dc98440a3bb0",
   "metadata": {},
   "outputs": [],
   "source": [
    "%load_ext echo_append"
   ]
  },
  {
   "cell_type": "code",
   "execution_count": 2,
   "id": "1a1a949b-acda-46cf-b403-58eb5496771a",
   "metadata": {},
   "outputs": [
    {
     "data": {
      "text/plain": [
       "'print(\\'1\\')\\n\\n\\nprint(\"Success!!\")'"
      ]
     },
     "execution_count": 2,
     "metadata": {},
     "output_type": "execute_result"
    }
   ],
   "source": [
    "%%echo_append \n",
    "print('1')"
   ]
  },
  {
   "cell_type": "code",
   "execution_count": null,
   "id": "6a73a84a-4a76-4dcb-90a6-04a94561d2c0",
   "metadata": {},
   "outputs": [],
   "source": []
  }
 ],
 "metadata": {
  "kernelspec": {
   "display_name": "Python 3 (ipykernel)",
   "language": "python",
   "name": "python3"
  },
  "language_info": {
   "codemirror_mode": {
    "name": "ipython",
    "version": 3
   },
   "file_extension": ".py",
   "mimetype": "text/x-python",
   "name": "python",
   "nbconvert_exporter": "python",
   "pygments_lexer": "ipython3",
   "version": "3.11.9"
  }
 },
 "nbformat": 4,
 "nbformat_minor": 5
}
